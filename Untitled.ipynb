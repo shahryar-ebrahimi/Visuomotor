{
 "cells": [
  {
   "cell_type": "code",
   "execution_count": 49,
   "metadata": {},
   "outputs": [
    {
     "name": "stdout",
     "output_type": "stream",
     "text": [
      "Populating the interactive namespace from numpy and matplotlib\n"
     ]
    }
   ],
   "source": [
    "%pylab inline\n",
    "import numpy as np"
   ]
  },
  {
   "cell_type": "code",
   "execution_count": 50,
   "metadata": {},
   "outputs": [],
   "source": [
    "def abline(slope, intercept):\n",
    "    \"\"\"Plot a line from slope and intercept\"\"\"\n",
    "    axes = plt.gca()\n",
    "    x_vals = np.array(axes.get_xlim())\n",
    "    y_vals = intercept + slope * x_vals\n",
    "    plt.plot(x_vals, y_vals, '--')"
   ]
  },
  {
   "cell_type": "code",
   "execution_count": 36,
   "metadata": {},
   "outputs": [],
   "source": [
    "def visual_error_clamp( pos, start, target):\n",
    "    \"\"\" \n",
    "    Return the cursor display position in a visual error clamp trial.\n",
    "\n",
    "    pos : (x,y) tuple denoting current position\n",
    "    start : (x,y) tuple denoting the starting position\n",
    "    target : (x,y) tuple denoting the target position\n",
    "    \"\"\"\n",
    "\n",
    "    pos    = np.array(pos)\n",
    "    start  = np.array(start)\n",
    "    target = np.array(target)\n",
    "\n",
    "    def d(a,b): return np.sqrt( sum(pow(a-b,2)) )\n",
    "    \n",
    "    # How far have we traveled from the starting point?\n",
    "    dist = d(pos,start) \n",
    "\n",
    "    # TODO: if we are moving *away* from the target, we will want to make dist negative\n",
    "    #if pos[1]<start[1]:\n",
    "    #    dist=-dist\n",
    "    dpostarg   = d(pos,target)\n",
    "    dstarttarg = d(start,target)\n",
    "    if dpostarg>dstarttarg:\n",
    "        dist=-dist # count this as moving away\n",
    "    \n",
    "    # Unit vector pointing from target to start\n",
    "    targvect = (target-start)/dstarttarg\n",
    "\n",
    "    # Now take that amount and apply it to the vector start-to-target\n",
    "    return start + dist*targvect\n"
   ]
  },
  {
   "cell_type": "code",
   "execution_count": 37,
   "metadata": {},
   "outputs": [],
   "source": [
    "start  = [0,-.05]\n",
    "target = [0,.1]"
   ]
  },
  {
   "cell_type": "code",
   "execution_count": 38,
   "metadata": {},
   "outputs": [],
   "source": [
    "pos = [0,0]"
   ]
  },
  {
   "cell_type": "code",
   "execution_count": 39,
   "metadata": {},
   "outputs": [],
   "source": [
    "ypos = linspace(-.1,.1,200)"
   ]
  },
  {
   "cell_type": "code",
   "execution_count": 59,
   "metadata": {},
   "outputs": [],
   "source": [
    "plotpos = [ visual_error_clamp((0.01,y),start,target)[1] for y in ypos ]"
   ]
  },
  {
   "cell_type": "code",
   "execution_count": 60,
   "metadata": {},
   "outputs": [
    {
     "data": {
      "image/png": "[encoded data removed]",
      "text/plain": [
       "<Figure size 432x288 with 1 Axes>"
      ]
     },
     "metadata": {},
     "output_type": "display_data"
    }
   ],
   "source": [
    "plot(ypos,plotpos)\n",
    "abline(1,0)"
   ]
  },
  {
   "cell_type": "code",
   "execution_count": 8,
   "metadata": {},
   "outputs": [
    {
     "data": {
      "text/plain": [
       "array([ 0.,  0.])"
      ]
     },
     "execution_count": 8,
     "metadata": {},
     "output_type": "execute_result"
    }
   ],
   "source": []
  }
 ],
 "metadata": {
  "kernelspec": {
   "display_name": "Python 3",
   "language": "python",
   "name": "python3"
  },
  "language_info": {
   "codemirror_mode": {
    "name": "ipython",
    "version": 3
   },
   "file_extension": ".py",
   "mimetype": "text/x-python",
   "name": "python",
   "nbconvert_exporter": "python",
   "pygments_lexer": "ipython3",
   "version": "3.6.1"
  }
 },
 "nbformat": 4,
 "nbformat_minor": 2
}
